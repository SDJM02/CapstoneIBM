{
 "metadata": {
  "language_info": {
   "codemirror_mode": {
    "name": "ipython",
    "version": 3
   },
   "file_extension": ".py",
   "mimetype": "text/x-python",
   "name": "python",
   "nbconvert_exporter": "python",
   "pygments_lexer": "ipython3",
   "version": "3.8.3"
  },
  "orig_nbformat": 4,
  "kernelspec": {
   "name": "python3",
   "display_name": "Python 3.8.3 32-bit"
  },
  "interpreter": {
   "hash": "a1a5b614237db5d4ee7375a79a2d0433afaa00236f41a5fe3346a15aa04ab23d"
  }
 },
 "nbformat": 4,
 "nbformat_minor": 2,
 "cells": [
  {
   "cell_type": "code",
   "execution_count": 1,
   "metadata": {},
   "outputs": [],
   "source": [
    "#Importando la libreria para web scraping\n",
    "from bs4 import BeautifulSoup\n",
    "import pandas as pd\n",
    "import requests\n",
    "#Definimos la url de wikipedia\n",
    "url = \"https://en.wikipedia.org/wiki/List_of_postal_codes_of_Canada:_M\"\n",
    "#Leemos el html como texto\n",
    "data = requests.get(url).text\n",
    "#Leemos el html con BS\n",
    "soup = BeautifulSoup(data,\"html.parser\")\n"
   ]
  },
  {
   "cell_type": "code",
   "execution_count": 2,
   "metadata": {
    "tags": []
   },
   "outputs": [
    {
     "output_type": "stream",
     "name": "stdout",
     "text": [
      "Casilla No Asignada\n",
      "Casilla No Asignada\n",
      "Casilla No Asignada\n",
      "Casilla No Asignada\n",
      "Casilla No Asignada\n",
      "Casilla No Asignada\n",
      "Casilla No Asignada\n",
      "Casilla No Asignada\n",
      "Casilla No Asignada\n",
      "Casilla No Asignada\n",
      "Casilla No Asignada\n",
      "Casilla No Asignada\n",
      "Casilla No Asignada\n",
      "Casilla No Asignada\n",
      "Casilla No Asignada\n",
      "Casilla No Asignada\n",
      "Casilla No Asignada\n",
      "Casilla No Asignada\n",
      "Casilla No Asignada\n",
      "Casilla No Asignada\n",
      "Casilla No Asignada\n",
      "Casilla No Asignada\n",
      "Casilla No Asignada\n",
      "Casilla No Asignada\n",
      "Casilla No Asignada\n",
      "Casilla No Asignada\n",
      "Casilla No Asignada\n",
      "Casilla No Asignada\n",
      "Casilla No Asignada\n",
      "Casilla No Asignada\n",
      "Casilla No Asignada\n",
      "Casilla No Asignada\n",
      "Casilla No Asignada\n",
      "Casilla No Asignada\n",
      "Casilla No Asignada\n",
      "Casilla No Asignada\n",
      "Casilla No Asignada\n",
      "Casilla No Asignada\n",
      "Casilla No Asignada\n",
      "Casilla No Asignada\n",
      "Casilla No Asignada\n",
      "Casilla No Asignada\n",
      "Casilla No Asignada\n",
      "Casilla No Asignada\n",
      "Casilla No Asignada\n",
      "Casilla No Asignada\n",
      "Casilla No Asignada\n",
      "Casilla No Asignada\n",
      "Casilla No Asignada\n",
      "Casilla No Asignada\n",
      "Casilla No Asignada\n",
      "Casilla No Asignada\n",
      "Casilla No Asignada\n",
      "Casilla No Asignada\n",
      "Casilla No Asignada\n",
      "Casilla No Asignada\n",
      "Casilla No Asignada\n",
      "Casilla No Asignada\n",
      "Casilla No Asignada\n",
      "Casilla No Asignada\n",
      "Casilla No Asignada\n",
      "Casilla No Asignada\n",
      "Casilla No Asignada\n",
      "Casilla No Asignada\n",
      "Casilla No Asignada\n",
      "Casilla No Asignada\n",
      "Casilla No Asignada\n",
      "Casilla No Asignada\n",
      "Casilla No Asignada\n",
      "Casilla No Asignada\n",
      "Casilla No Asignada\n",
      "Casilla No Asignada\n",
      "Casilla No Asignada\n",
      "Casilla No Asignada\n",
      "Casilla No Asignada\n",
      "Casilla No Asignada\n",
      "Casilla No Asignada\n"
     ]
    }
   ],
   "source": [
    "#print(soup.prettify())\n",
    "#Leyendo la tabla\n",
    "table = soup.find(\"table\")\n",
    "dtBarToronto = pd.DataFrame(columns=['postalCode', 'borough', 'neighborhood'])\n",
    "#Ciclo para las filas\n",
    "for row in table.find_all(\"tr\"):\n",
    "    #Ciclo para las columnas\n",
    "    for col in row.find_all(\"td\"):\n",
    "        #Condicional ignorar celdas no asignadas\n",
    "        if col.find(string=\"Not assigned\") == None:\n",
    "            #Obteniendo lista de strings en la celda\n",
    "            colStrings = col.p.strings\n",
    "            neighborhood = \"\"\n",
    "            #Ciclo para recorrer la lista de strings\n",
    "            for i,colString in enumerate(colStrings):\n",
    "                uniString = str(colString)\n",
    "                #Primera posicion es el codigo postal\n",
    "                if i == 0:\n",
    "                    postalCode = uniString\n",
    "                #Segunda posicion es el municipio\n",
    "                elif i == 1:\n",
    "                    borough = uniString\n",
    "                else:\n",
    "                    neighborhood = neighborhood + uniString\n",
    "\n",
    "            #row_df = pd.DataFrame([postalCode,borough,])\n",
    "            #df = pd.concat([row_df, df], ignore_index=True)\n",
    "            neighborhood = neighborhood.strip().replace(\"(\",\"\").replace(\")\",\"\").replace(\" /\",\",\")\n",
    "            nuevaFila = {\"postalCode\":postalCode,\"borough\":borough,\"neighborhood\":neighborhood}\n",
    "            dtBarToronto = dtBarToronto.append(nuevaFila,ignore_index=True)\n",
    "            #print(postalCode,borough,neighborhood)\n",
    "        else:\n",
    "            print(\"Casilla No Asignada\")\n"
   ]
  },
  {
   "cell_type": "code",
   "execution_count": 3,
   "metadata": {
    "tags": []
   },
   "outputs": [],
   "source": [
    "#Se asigna el valor del municipio a los barrios que se encuentran vacios\n",
    "dtBarToronto['neighborhood'] = dtBarToronto['neighborhood'].fillna(dtBarToronto['borough'])"
   ]
  },
  {
   "cell_type": "code",
   "execution_count": 4,
   "metadata": {},
   "outputs": [],
   "source": [
    "dtBarToronto = dtBarToronto.groupby(['postalCode','borough'])['neighborhood'].apply(','.join).reset_index()"
   ]
  },
  {
   "cell_type": "code",
   "execution_count": 5,
   "metadata": {},
   "outputs": [
    {
     "output_type": "execute_result",
     "data": {
      "text/plain": [
       "M1N    1\n",
       "M9A    1\n",
       "M5V    1\n",
       "M7A    1\n",
       "M4G    1\n",
       "      ..\n",
       "M2R    1\n",
       "M4C    1\n",
       "M4R    1\n",
       "M9V    1\n",
       "M5K    1\n",
       "Name: postalCode, Length: 103, dtype: int64"
      ]
     },
     "metadata": {},
     "execution_count": 5
    }
   ],
   "source": [
    "#Verificamos que ninguno de los codigos postales aparece mas de una vez\n",
    "dtBarToronto['postalCode'].value_counts(sort=True)\n"
   ]
  },
  {
   "cell_type": "code",
   "execution_count": 6,
   "metadata": {},
   "outputs": [
    {
     "output_type": "execute_result",
     "data": {
      "text/plain": [
       "(103, 3)"
      ]
     },
     "metadata": {},
     "execution_count": 6
    }
   ],
   "source": [
    "dtBarToronto.shape"
   ]
  },
  {
   "cell_type": "code",
   "execution_count": 8,
   "metadata": {},
   "outputs": [
    {
     "output_type": "execute_result",
     "data": {
      "text/plain": [
       "'\\nimport geocoder # import geocoder\\nprint(\"prueba print\")\\nfor index,row in dtBarToronto.iterrows():\\n  # initialize your variable to None\\n  lat_lng_coords = None\\n  postal_code = row[\"postalCode\"]\\n  # loop until you get the coordinates\\n  while(lat_lng_coords is None):\\n    g = geocoder.google(\\'{}, Toronto, Ontario\\'.format(postal_code))\\n    lat_lng_coords = g.latlng\\n\\n  row[\"latitude\"] = lat_lng_coords[0]\\n  row[\"longitude\"] = lat_lng_coords[1]\\n  print(lat_lng_coords[0],lat_lng_coords[1])\\n'"
      ]
     },
     "metadata": {},
     "execution_count": 8
    }
   ],
   "source": [
    "\"\"\"\n",
    "import geocoder # import geocoder\n",
    "print(\"prueba print\")\n",
    "for index,row in dtBarToronto.iterrows():\n",
    "  # initialize your variable to None\n",
    "  lat_lng_coords = None\n",
    "  postal_code = row[\"postalCode\"]\n",
    "  # loop until you get the coordinates\n",
    "  while(lat_lng_coords is None):\n",
    "    g = geocoder.google('{}, Toronto, Ontario'.format(postal_code))\n",
    "    lat_lng_coords = g.latlng\n",
    "\n",
    "  row[\"latitude\"] = lat_lng_coords[0]\n",
    "  row[\"longitude\"] = lat_lng_coords[1]\n",
    "  print(lat_lng_coords[0],lat_lng_coords[1])\n",
    "\"\"\"\n"
   ]
  },
  {
   "cell_type": "code",
   "execution_count": 10,
   "metadata": {},
   "outputs": [
    {
     "output_type": "execute_result",
     "data": {
      "text/plain": [
       "  Postal Code   Latitude  Longitude\n",
       "0         M1B  43.806686 -79.194353\n",
       "1         M1C  43.784535 -79.160497\n",
       "2         M1E  43.763573 -79.188711\n",
       "3         M1G  43.770992 -79.216917\n",
       "4         M1H  43.773136 -79.239476"
      ],
      "text/html": "<div>\n<style scoped>\n    .dataframe tbody tr th:only-of-type {\n        vertical-align: middle;\n    }\n\n    .dataframe tbody tr th {\n        vertical-align: top;\n    }\n\n    .dataframe thead th {\n        text-align: right;\n    }\n</style>\n<table border=\"1\" class=\"dataframe\">\n  <thead>\n    <tr style=\"text-align: right;\">\n      <th></th>\n      <th>Postal Code</th>\n      <th>Latitude</th>\n      <th>Longitude</th>\n    </tr>\n  </thead>\n  <tbody>\n    <tr>\n      <th>0</th>\n      <td>M1B</td>\n      <td>43.806686</td>\n      <td>-79.194353</td>\n    </tr>\n    <tr>\n      <th>1</th>\n      <td>M1C</td>\n      <td>43.784535</td>\n      <td>-79.160497</td>\n    </tr>\n    <tr>\n      <th>2</th>\n      <td>M1E</td>\n      <td>43.763573</td>\n      <td>-79.188711</td>\n    </tr>\n    <tr>\n      <th>3</th>\n      <td>M1G</td>\n      <td>43.770992</td>\n      <td>-79.216917</td>\n    </tr>\n    <tr>\n      <th>4</th>\n      <td>M1H</td>\n      <td>43.773136</td>\n      <td>-79.239476</td>\n    </tr>\n  </tbody>\n</table>\n</div>"
     },
     "metadata": {},
     "execution_count": 10
    }
   ],
   "source": [
    "df_spacial = pd.read_csv(\"Geospatial_Coordinates.csv\")\n",
    "df_spacial.head()"
   ]
  },
  {
   "cell_type": "code",
   "execution_count": null,
   "metadata": {},
   "outputs": [],
   "source": [
    "dtBarToronto.set_index(\"postalCode\").join(df_spacial.set_index(\"Postal Code\"))"
   ]
  }
 ]
}